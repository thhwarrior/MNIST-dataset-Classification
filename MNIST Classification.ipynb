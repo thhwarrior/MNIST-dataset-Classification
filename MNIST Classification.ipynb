{
 "cells": [
  {
   "cell_type": "code",
   "execution_count": 13,
   "id": "da03c560",
   "metadata": {},
   "outputs": [],
   "source": [
    "import numpy as np\n",
    "import matplotlib.pyplot as plt \n",
    "from keras.layers import Dense\n",
    "from keras import Sequential\n",
    "from keras.optimizers import Adam\n",
    "from keras.activations import relu,softmax\n",
    "from keras.losses import sparse_categorical_crossentropy\n",
    "from keras.datasets import mnist\n",
    "from sklearn.svm import SVC\n",
    "from sklearn.naive_bayes import GaussianNB\n",
    "from sklearn.neighbors import KNeighborsClassifier\n",
    "from sklearn.ensemble import RandomForestClassifier\n",
    "from sklearn.model_selection import GridSearchCV\n"
   ]
  },
  {
   "cell_type": "code",
   "execution_count": 2,
   "id": "d9b866fb",
   "metadata": {},
   "outputs": [],
   "source": [
    "(X_train,y_train),(X_test,y_test) = mnist.load_data() #Loading Data"
   ]
  },
  {
   "cell_type": "code",
   "execution_count": 3,
   "id": "b32fae16",
   "metadata": {},
   "outputs": [],
   "source": [
    "X_train = X_train.astype(np.float32)/255 \n",
    "X_test = X_test.astype(np.float32)/255"
   ]
  },
  {
   "cell_type": "code",
   "execution_count": 4,
   "id": "aaf03db8",
   "metadata": {},
   "outputs": [
    {
     "data": {
      "text/plain": [
       "((60000, 28, 28), (60000,), (10000, 28, 28), (10000,))"
      ]
     },
     "execution_count": 4,
     "metadata": {},
     "output_type": "execute_result"
    }
   ],
   "source": [
    "X_train.shape, y_train.shape, X_test.shape, y_test.shape"
   ]
  },
  {
   "cell_type": "code",
   "execution_count": 5,
   "id": "09308d70",
   "metadata": {},
   "outputs": [],
   "source": [
    "X_train=X_train.reshape(60000,-1)\n",
    "X_test=X_test.reshape(10000,-1)"
   ]
  },
  {
   "cell_type": "markdown",
   "id": "1d4fd1d9",
   "metadata": {},
   "source": [
    "## The following section is for optimized estimators. \n",
    "### Change from markdown to code and run if you have a powerful system. I however don't"
   ]
  },
  {
   "cell_type": "markdown",
   "id": "6bb3b6fa",
   "metadata": {},
   "source": [
    "### SVM Estimator\n",
    "paramGrid={'C':[1,10,100], \n",
    "          'gamma':[0.01,1,10],\n",
    "          }\n",
    "clf = GridSearchCV(estimator= SVC(), param_grid=paramGrid, n_jobs=-1, cv=5, refit=True, verbose=True)"
   ]
  },
  {
   "cell_type": "markdown",
   "id": "b9f12d2d",
   "metadata": {},
   "source": [
    "clf.fit(X_train,y_train)\n",
    "print(clf.best_score_)\n",
    "clf.best_estimator_"
   ]
  },
  {
   "cell_type": "markdown",
   "id": "1bd9a331",
   "metadata": {},
   "source": [
    "### Naive Bayes Estimator\n",
    "param_grid_nb = {\n",
    "    'var_smoothing': np.logspace(0,-9, num=100)\n",
    "}"
   ]
  },
  {
   "cell_type": "markdown",
   "id": "d8821b57",
   "metadata": {},
   "source": [
    "nbModel_grid = GridSearchCV(estimator=GaussianNB(), param_grid=param_grid_nb, verbose=1, cv=10, n_jobs=-1, refit=True)\n",
    "nbModel_grid.fit(X_train, y_train)\n",
    "print(nbModel_grid.best_estimator_)"
   ]
  },
  {
   "cell_type": "markdown",
   "id": "67831abc",
   "metadata": {},
   "source": [
    "### KNearestNeighbor Estimator\n",
    "param_grid = {\n",
    "    'n_neighbors': (1,10, 1),\n",
    "    'leaf_size': (20,40,1),\n",
    "    'p': (1,2),\n",
    "    'weights': ('uniform', 'distance'),\n",
    "    'metric': ('minkowski', 'chebyshev'),\n",
    "}\n",
    "KNN = GridSearchCV(\n",
    "    estimator=estimator_KNN,\n",
    "    param_grid=parameters_KNN,\n",
    "    scoring = 'accuracy',\n",
    "    n_jobs = -1,\n",
    "    cv = 5\n",
    ")"
   ]
  },
  {
   "cell_type": "markdown",
   "id": "d7012717",
   "metadata": {},
   "source": [
    "KNN.fit(X_train, y_train)\n",
    "KNN.best_estimator_"
   ]
  },
  {
   "cell_type": "code",
   "execution_count": 8,
   "id": "ea1462af",
   "metadata": {},
   "outputs": [
    {
     "data": {
      "text/plain": [
       "0.9688"
      ]
     },
     "execution_count": 8,
     "metadata": {},
     "output_type": "execute_result"
    }
   ],
   "source": [
    "knn = KNeighborsClassifier()\n",
    "knn.fit(X_train,y_train)\n",
    "knn.score(X_test,y_test)"
   ]
  },
  {
   "cell_type": "code",
   "execution_count": 9,
   "id": "4be53f0d",
   "metadata": {},
   "outputs": [
    {
     "data": {
      "text/plain": [
       "0.5558"
      ]
     },
     "execution_count": 9,
     "metadata": {},
     "output_type": "execute_result"
    }
   ],
   "source": [
    "nb = GaussianNB()\n",
    "nb.fit(X_train,y_train)\n",
    "nb.score(X_test,y_test)"
   ]
  },
  {
   "cell_type": "code",
   "execution_count": 14,
   "id": "f23cc5aa",
   "metadata": {},
   "outputs": [
    {
     "data": {
      "text/plain": [
       "0.5558"
      ]
     },
     "execution_count": 14,
     "metadata": {},
     "output_type": "execute_result"
    }
   ],
   "source": [
    "rf = RandomForestClassifier()\n",
    "rf.fit(X_train, y_train)\n",
    "nb.score(X_test,y_test)"
   ]
  },
  {
   "cell_type": "code",
   "execution_count": 11,
   "id": "f603e832",
   "metadata": {},
   "outputs": [],
   "source": [
    "Sclf = SVC()"
   ]
  },
  {
   "cell_type": "code",
   "execution_count": 12,
   "id": "067c03ee",
   "metadata": {},
   "outputs": [
    {
     "data": {
      "text/plain": [
       "0.9404"
      ]
     },
     "execution_count": 12,
     "metadata": {},
     "output_type": "execute_result"
    }
   ],
   "source": [
    "Sclf.fit(X_train,y_train)\n",
    "Sclf.score(X_test,y_test)"
   ]
  },
  {
   "cell_type": "markdown",
   "id": "755df0b7",
   "metadata": {},
   "source": [
    "## Neural Network Model"
   ]
  },
  {
   "cell_type": "code",
   "execution_count": null,
   "id": "bfe48177",
   "metadata": {},
   "outputs": [],
   "source": [
    "def error(yHat,yTarget):\n",
    "    m = yTarget.shape[0]\n",
    "    count = 0\n",
    "    for i in range(m):\n",
    "        if np.argmax(yHat[i])!=yTarget[i]:\n",
    "            count+=1\n",
    "    return count/m       "
   ]
  },
  {
   "cell_type": "code",
   "execution_count": null,
   "id": "dad9f408",
   "metadata": {},
   "outputs": [],
   "source": [
    "model = Sequential([\n",
    "    Dense(80,activation = \"relu\"),\n",
    "    Dense(20,activation = \"relu\"),\n",
    "    Dense(10,activation = \"softmax\")\n",
    "])"
   ]
  },
  {
   "cell_type": "code",
   "execution_count": null,
   "id": "f575d47e",
   "metadata": {},
   "outputs": [],
   "source": [
    "model.compile(\n",
    "    loss=sparse_categorical_crossentropy,\n",
    "    optimizer = Adam(learning_rate=0.01)\n",
    ")"
   ]
  },
  {
   "cell_type": "code",
   "execution_count": null,
   "id": "796d807f",
   "metadata": {},
   "outputs": [],
   "source": [
    "\n",
    "model.fit(X_train,y_train,epochs=40)"
   ]
  },
  {
   "cell_type": "code",
   "execution_count": null,
   "id": "8558177a",
   "metadata": {},
   "outputs": [],
   "source": []
  },
  {
   "cell_type": "code",
   "execution_count": null,
   "id": "51081da3",
   "metadata": {},
   "outputs": [],
   "source": [
    "error(model.predict(X_train),y_train)"
   ]
  },
  {
   "cell_type": "code",
   "execution_count": null,
   "id": "e87d1a32",
   "metadata": {},
   "outputs": [],
   "source": [
    "error(model.predict(X_test),y_test)"
   ]
  },
  {
   "cell_type": "code",
   "execution_count": null,
   "id": "15995ed1",
   "metadata": {},
   "outputs": [],
   "source": []
  }
 ],
 "metadata": {
  "kernelspec": {
   "display_name": "base",
   "language": "python",
   "name": "base"
  },
  "language_info": {
   "codemirror_mode": {
    "name": "ipython",
    "version": 3
   },
   "file_extension": ".py",
   "mimetype": "text/x-python",
   "name": "python",
   "nbconvert_exporter": "python",
   "pygments_lexer": "ipython3",
   "version": "3.10.10"
  }
 },
 "nbformat": 4,
 "nbformat_minor": 5
}
